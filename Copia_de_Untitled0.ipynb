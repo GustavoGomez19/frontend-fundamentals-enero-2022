{
  "nbformat": 4,
  "nbformat_minor": 0,
  "metadata": {
    "colab": {
      "name": "Copia de Untitled0.ipynb",
      "provenance": [],
      "collapsed_sections": [],
      "authorship_tag": "ABX9TyM3Yyun1fnqbITJHbMlDKWw"
    },
    "kernelspec": {
      "name": "python3",
      "display_name": "Python 3"
    },
    "language_info": {
      "name": "python"
    }
  },
  "cells": [
    {
      "cell_type": "code",
      "source": [
        "f = float(input(\"Ingrese los grados fahrenheight \"))\n",
        "c = (f-32)*5/9\n",
        "print(f,\"grados farenheight equivale a: \", c, \"grados centigrados\")"
      ],
      "metadata": {
        "colab": {
          "base_uri": "https://localhost:8080/"
        },
        "id": "c_ubiuFbCLbT",
        "outputId": "d16408ab-999a-4a6f-cbf0-92dfa4d626f7"
      },
      "execution_count": null,
      "outputs": [
        {
          "output_type": "stream",
          "name": "stdout",
          "text": [
            "Ingrese los grados fahrenheight 50\n",
            "50.0 grados farenheight equivale a:  10.0 grados centigrados\n"
          ]
        }
      ]
    },
    {
      "cell_type": "code",
      "source": [
        "c = float(input(\"Ingrese los grados centigrados: \"))\n",
        "f = (c*9/5)+32\n",
        "print(c, \"grados centigrados equivale a :\", f, \"grados farenheight\")"
      ],
      "metadata": {
        "colab": {
          "base_uri": "https://localhost:8080/"
        },
        "id": "VYlUvM7XCaPm",
        "outputId": "c6b04a66-a031-4235-9e93-9dabccb6a228"
      },
      "execution_count": null,
      "outputs": [
        {
          "output_type": "stream",
          "name": "stdout",
          "text": [
            "Ingrese los grados centigrados: 90\n",
            "90.0 grados centigrados equivale a : 194.0 grados farenheight\n"
          ]
        }
      ]
    },
    {
      "cell_type": "code",
      "source": [
        "num_1 = int(input(\"Ingrese el primer número: \"))\n",
        "num_2 = int(input(\"Ingrese el segundo número: \"))\n",
        "suma = num_1 + num_2\n",
        "resta  = num_1 - num_2\n",
        "multiplicacion  = num_1 * num_2\n",
        "division = num_1 / num_2\n",
        "print(\"El resultado de las operaciones son: \",\"suma:\",suma,\",\" \"resta:\",resta,\",\" \"multiplicación:\",multiplicacion,\"y \" \"división:\",division)"
      ],
      "metadata": {
        "colab": {
          "base_uri": "https://localhost:8080/"
        },
        "id": "z_UtlU-tG81E",
        "outputId": "0bb7c10f-9321-48f7-e54c-19fc255c1f0e"
      },
      "execution_count": null,
      "outputs": [
        {
          "output_type": "stream",
          "name": "stdout",
          "text": [
            "Ingrese el primer número: 20\n",
            "Ingrese el segundo número: 10\n",
            "El resultado de las operaciones son:  suma: 30 ,resta: 10 ,multiplicación: 200 y división: 2.0\n"
          ]
        }
      ]
    },
    {
      "cell_type": "code",
      "source": [
        "d = float(input(\"Ingrese la cantidad de dolares a convertir: \"))\n",
        "p = d * 3941.71\n",
        "print(\"La cantidad ingresada equivale a\",p, \"pesos colombianos\")"
      ],
      "metadata": {
        "colab": {
          "base_uri": "https://localhost:8080/"
        },
        "id": "16uLB-qtDEva",
        "outputId": "82063f54-f15f-42b8-e2bf-7dcb9cf8030c"
      },
      "execution_count": null,
      "outputs": [
        {
          "output_type": "stream",
          "name": "stdout",
          "text": [
            "Ingrese la cantidad de dolares a convertir: 2\n",
            "La cantidad ingresada equivale a 7883.42 pesos colombianos\n"
          ]
        }
      ]
    },
    {
      "cell_type": "code",
      "source": [
        "peso = float(input(\"Ingrese su peso: \"))\n",
        "altura = float(input(\"Ingrese su estatura: \"))\n",
        "imc = peso/(altura**2)\n",
        "print(\"Su indice de masa corporal es de: \",imc)"
      ],
      "metadata": {
        "colab": {
          "base_uri": "https://localhost:8080/"
        },
        "id": "lcPgiPFZEE_K",
        "outputId": "872acb9a-068b-439e-a043-cea5a7e36fad"
      },
      "execution_count": null,
      "outputs": [
        {
          "output_type": "stream",
          "name": "stdout",
          "text": [
            "Ingrese su peso: 77\n",
            "Ingrese su estatura: 165\n",
            "Su indice de masa corporal es de:  0.0028282828282828283\n"
          ]
        }
      ]
    }
  ]
}